{
 "cells": [
  {
   "cell_type": "markdown",
   "id": "bda4baa7",
   "metadata": {},
   "source": [
    "# Welcome to WG Gesucht Stats!\n",
    "\n",
    "Use the navigation bar to open the data analyses."
   ]
  }
 ],
 "metadata": {
  "language_info": {
   "name": "python"
  }
 },
 "nbformat": 4,
 "nbformat_minor": 5
}
