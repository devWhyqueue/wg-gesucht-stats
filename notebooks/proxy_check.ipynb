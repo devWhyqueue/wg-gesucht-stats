{
 "cells": [
  {
   "cell_type": "markdown",
   "id": "2e2a29ce",
   "metadata": {},
   "source": [
    "# Check proxies"
   ]
  },
  {
   "cell_type": "code",
   "execution_count": 134,
   "id": "36c7cd5a",
   "metadata": {},
   "outputs": [],
   "source": [
    "import re, os, requests\n",
    "import concurrent.futures as cf\n",
    "from tqdm import tqdm\n",
    "\n",
    "FREE_PROXY_LIST_URL = \"https://raw.githubusercontent.com/TheSpeedX/SOCKS-List/master/socks4.txt\"\n",
    "TARGET_URL = \"https://api.ipify.org\"  # tiny endpoint, returns your IP\n",
    "CONNECT_TIMEOUT, READ_TIMEOUT = 3, 5\n",
    "MAX_WORKERS = 64  # tune based on ulimit / OS\n"
   ]
  },
  {
   "cell_type": "code",
   "execution_count": 135,
   "id": "d1c73101",
   "metadata": {},
   "outputs": [
    {
     "name": "stdout",
     "output_type": "stream",
     "text": [
      "Loaded 269 proxies\n"
     ]
    }
   ],
   "source": [
    "def load_proxies(url=FREE_PROXY_LIST_URL):\n",
    "    txt = requests.get(url, timeout=(5,10)).text\n",
    "    return list({p for p in re.findall(r\"\\b(?:\\d{1,3}\\.){3}\\d{1,3}:\\d{2,5}\\b\", txt)})\n",
    "\n",
    "def load_proxies_from_file(path: str) -> list[str]:\n",
    "    with open(path, \"r\", encoding=\"utf-8\") as f:\n",
    "        lines = f.read().splitlines()\n",
    "    # keep only host:port patterns\n",
    "    return [line.strip() for line in lines if line.strip() and \":\" in line]\n",
    "\n",
    "\n",
    "proxies = load_proxies_from_file(\"out/working_proxies_all.txt\")\n",
    "print(f\"Loaded {len(proxies)} proxies\")\n"
   ]
  },
  {
   "cell_type": "code",
   "execution_count": 136,
   "id": "5bf7c860",
   "metadata": {},
   "outputs": [],
   "source": [
    "def is_alive(proxy):\n",
    "    px = {\"http\": f\"{proxy}\", \"https\": f\"{proxy}\"}\n",
    "    try:\n",
    "        r = requests.get(TARGET_URL, proxies=px, timeout=(CONNECT_TIMEOUT, READ_TIMEOUT), allow_redirects=False)\n",
    "        return proxy if (r.status_code == 200 and r.text.strip()) else None\n",
    "    except requests.RequestException:\n",
    "        return None\n"
   ]
  },
  {
   "cell_type": "code",
   "execution_count": 137,
   "id": "c0962714",
   "metadata": {},
   "outputs": [
    {
     "name": "stderr",
     "output_type": "stream",
     "text": [
      "100%|██████████| 269/269 [00:12<00:00, 22.28it/s]"
     ]
    },
    {
     "name": "stdout",
     "output_type": "stream",
     "text": [
      "Working proxies: 100\n"
     ]
    },
    {
     "name": "stderr",
     "output_type": "stream",
     "text": [
      "\n"
     ]
    }
   ],
   "source": [
    "alive = []\n",
    "with cf.ThreadPoolExecutor(max_workers=MAX_WORKERS) as ex:\n",
    "    for res in tqdm(ex.map(is_alive, proxies, chunksize=50), total=len(proxies)):\n",
    "        if res: alive.append(res)\n",
    "\n",
    "print(f\"Working proxies: {len(alive)}\")\n"
   ]
  },
  {
   "cell_type": "code",
   "execution_count": 138,
   "id": "dc3cf048",
   "metadata": {},
   "outputs": [
    {
     "name": "stdout",
     "output_type": "stream",
     "text": [
      "Saved working proxies to out/working_proxies.txt\n"
     ]
    }
   ],
   "source": [
    "os.makedirs(\"out\", exist_ok=True)\n",
    "with open(\"out/working_proxies.txt\", \"w\") as f:\n",
    "    f.write(\"\\n\".join(alive))\n",
    "\n",
    "print(\"Saved working proxies to out/working_proxies.txt\")\n"
   ]
  },
  {
   "cell_type": "markdown",
   "id": "96fb5b52",
   "metadata": {},
   "source": []
  }
 ],
 "metadata": {
  "kernelspec": {
   "display_name": "wggesuchtstats-9Efq763c-py3.12",
   "language": "python",
   "name": "python3"
  },
  "language_info": {
   "codemirror_mode": {
    "name": "ipython",
    "version": 3
   },
   "file_extension": ".py",
   "mimetype": "text/x-python",
   "name": "python",
   "nbconvert_exporter": "python",
   "pygments_lexer": "ipython3",
   "version": "3.12.10"
  }
 },
 "nbformat": 4,
 "nbformat_minor": 5
}
